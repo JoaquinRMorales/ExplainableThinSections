{
 "cells": [
  {
   "cell_type": "markdown",
   "metadata": {},
   "source": [
    "### Colocar una imagen de ejemplo para cada caso!"
   ]
  },
  {
   "cell_type": "code",
   "execution_count": 1,
   "metadata": {},
   "outputs": [],
   "source": [
    "import sys\n",
    "import os\n",
    "\n",
    "root = os.path.abspath(os.path.join(os.getcwd(), \"../..\"))  # Get project root\n",
    "sys.path.append(root)\n",
    "\n",
    "from Figures.Figure_6 import utils"
   ]
  },
  {
   "cell_type": "markdown",
   "metadata": {},
   "source": [
    "Preprocesing Images"
   ]
  },
  {
   "cell_type": "code",
   "execution_count": 2,
   "metadata": {},
   "outputs": [],
   "source": [
    "image_base_path_ooids = os.path.join(root, \"Data\", \"Figure_4\", \"Ooid\", \"example\", \"\")\n",
    "image_base_path_andalusites = os.path.join(root, \"Data\", \"Figure_4\", \"Andalusite\", \"example\", \"\")\n",
    "image_base_path_biotites = os.path.join(root, \"Data\", \"Figure_4\", \"Biotite\", \"example\", \"\")"
   ]
  },
  {
   "cell_type": "code",
   "execution_count": 3,
   "metadata": {},
   "outputs": [
    {
     "name": "stdout",
     "output_type": "stream",
     "text": [
      "There are 1 images to analyse\n",
      "There are 1 images to analyse\n",
      "There are 1 images to analyse\n"
     ]
    }
   ],
   "source": [
    "file_names_ooids = utils.get_file_names(image_base_path_ooids)\n",
    "file_names_andalusites = utils.get_file_names(image_base_path_andalusites)\n",
    "file_names_biotites = utils.get_file_names(image_base_path_biotites)"
   ]
  },
  {
   "cell_type": "code",
   "execution_count": 4,
   "metadata": {},
   "outputs": [
    {
     "name": "stdout",
     "output_type": "stream",
     "text": [
      "Imagen /Users/rodolfolobocarrasco/Desktop/INVESTIGACION-LECTURA/JOAQUIN/repositorio-oficial/ExplainableThinSections/Data/Figure_4/Ooid/example/037-_jpg.rf.30f30ede9fc5f0e1fbdcdd6c3af6b150.jpg siendo procesada 0/1\n"
     ]
    }
   ],
   "source": [
    "utils.preprocessing_images(base_path = image_base_path_ooids, \n",
    "                     image_names = file_names_ooids, \n",
    "                     experiment_name = \"ooid_general_experiment\")"
   ]
  },
  {
   "cell_type": "code",
   "execution_count": 5,
   "metadata": {},
   "outputs": [
    {
     "name": "stdout",
     "output_type": "stream",
     "text": [
      "Imagen /Users/rodolfolobocarrasco/Desktop/INVESTIGACION-LECTURA/JOAQUIN/repositorio-oficial/ExplainableThinSections/Data/Figure_4/Biotite/example/020-_jpg.rf.2e81a7c2d425fe7507a2c496806af0a1.jpg siendo procesada 0/1\n"
     ]
    }
   ],
   "source": [
    "utils.preprocessing_images(base_path = image_base_path_biotites, \n",
    "                     image_names = file_names_biotites, \n",
    "                     experiment_name = \"biotite_general_experiment\")"
   ]
  },
  {
   "cell_type": "code",
   "execution_count": 6,
   "metadata": {},
   "outputs": [
    {
     "name": "stdout",
     "output_type": "stream",
     "text": [
      "Imagen /Users/rodolfolobocarrasco/Desktop/INVESTIGACION-LECTURA/JOAQUIN/repositorio-oficial/ExplainableThinSections/Data/Figure_4/Andalusite/example/030-_jpg.rf.bea13e5c133d87522f4d55bf0df1f62c.jpg siendo procesada 0/1\n"
     ]
    }
   ],
   "source": [
    "utils.preprocessing_images(base_path = image_base_path_andalusites, \n",
    "                     image_names = file_names_andalusites, \n",
    "                     experiment_name = \"andalusite_general_experiment\")"
   ]
  },
  {
   "cell_type": "markdown",
   "metadata": {},
   "source": [
    "Experiment 1: singular values variation vs confidence"
   ]
  },
  {
   "cell_type": "code",
   "execution_count": 7,
   "metadata": {},
   "outputs": [],
   "source": [
    "from ultralytics import YOLO"
   ]
  },
  {
   "cell_type": "code",
   "execution_count": 8,
   "metadata": {},
   "outputs": [
    {
     "name": "stdout",
     "output_type": "stream",
     "text": [
      "\n",
      "image 1/4 /Users/rodolfolobocarrasco/Desktop/INVESTIGACION-LECTURA/JOAQUIN/repositorio-oficial/ExplainableThinSections/Figures/Figure_6/ooid_general_experiment/svd/compressed_037-_jpg.rf.30f30ede9fc5f0e1fbdcdd6c3af6b150.jpg_k1.jpg: 960x1280 (no detections), 154.7ms\n",
      "image 2/4 /Users/rodolfolobocarrasco/Desktop/INVESTIGACION-LECTURA/JOAQUIN/repositorio-oficial/ExplainableThinSections/Figures/Figure_6/ooid_general_experiment/svd/compressed_037-_jpg.rf.30f30ede9fc5f0e1fbdcdd6c3af6b150.jpg_k1000.jpg: 960x1280 3 Ooids, 154.7ms\n",
      "image 3/4 /Users/rodolfolobocarrasco/Desktop/INVESTIGACION-LECTURA/JOAQUIN/repositorio-oficial/ExplainableThinSections/Figures/Figure_6/ooid_general_experiment/svd/compressed_037-_jpg.rf.30f30ede9fc5f0e1fbdcdd6c3af6b150.jpg_k101.jpg: 960x1280 3 Ooids, 151.5ms\n",
      "image 4/4 /Users/rodolfolobocarrasco/Desktop/INVESTIGACION-LECTURA/JOAQUIN/repositorio-oficial/ExplainableThinSections/Figures/Figure_6/ooid_general_experiment/svd/compressed_037-_jpg.rf.30f30ede9fc5f0e1fbdcdd6c3af6b150.jpg_k51.jpg: 960x1280 2 Ooids, 151.5ms\n",
      "Speed: 5.2ms preprocess, 153.1ms inference, 1.6ms postprocess per image at shape (2, 3, 960, 1280)\n",
      "Results saved to \u001b[1m/Users/rodolfolobocarrasco/Documents/projects/YOLOV5/runs/segment/predict22\u001b[0m\n",
      "Total images processed: 4\n",
      "Images with detections: 3 (75.00% success rate)\n",
      "Images with no detections: 1 (25.00% failure rate)\n",
      "Quality level k=1: Average confidence = 0.000\n",
      "Quality level k=51: Average confidence = 0.905\n",
      "Quality level k=101: Average confidence = 0.908\n",
      "Quality level k=1000: Average confidence = 0.915\n"
     ]
    }
   ],
   "source": [
    "model_path = os.path.join(root, \"Data\", \"Figure_4\", \"Ooid\",\"best.pt\")\n",
    "model = YOLO(model_path) \n",
    "predictions = model.predict(source=\"ooid_general_experiment/svd\", save=True, imgsz=1280, conf=0.8, device='cpu', batch = 2)\n",
    "utils.experimento_1(predictions)"
   ]
  },
  {
   "cell_type": "code",
   "execution_count": 9,
   "metadata": {},
   "outputs": [
    {
     "name": "stdout",
     "output_type": "stream",
     "text": [
      "\n",
      "image 1/4 /Users/rodolfolobocarrasco/Desktop/INVESTIGACION-LECTURA/JOAQUIN/repositorio-oficial/ExplainableThinSections/Figures/Figure_6/andalusite_general_experiment/svd/compressed_030-_jpg.rf.bea13e5c133d87522f4d55bf0df1f62c.jpg_k1.jpg: 960x1280 (no detections), 151.0ms\n",
      "image 2/4 /Users/rodolfolobocarrasco/Desktop/INVESTIGACION-LECTURA/JOAQUIN/repositorio-oficial/ExplainableThinSections/Figures/Figure_6/andalusite_general_experiment/svd/compressed_030-_jpg.rf.bea13e5c133d87522f4d55bf0df1f62c.jpg_k1000.jpg: 960x1280 11 andalusites, 151.0ms\n",
      "image 3/4 /Users/rodolfolobocarrasco/Desktop/INVESTIGACION-LECTURA/JOAQUIN/repositorio-oficial/ExplainableThinSections/Figures/Figure_6/andalusite_general_experiment/svd/compressed_030-_jpg.rf.bea13e5c133d87522f4d55bf0df1f62c.jpg_k101.jpg: 960x1280 11 andalusites, 154.2ms\n",
      "image 4/4 /Users/rodolfolobocarrasco/Desktop/INVESTIGACION-LECTURA/JOAQUIN/repositorio-oficial/ExplainableThinSections/Figures/Figure_6/andalusite_general_experiment/svd/compressed_030-_jpg.rf.bea13e5c133d87522f4d55bf0df1f62c.jpg_k51.jpg: 960x1280 10 andalusites, 154.2ms\n",
      "Speed: 5.2ms preprocess, 152.6ms inference, 4.4ms postprocess per image at shape (2, 3, 960, 1280)\n",
      "Results saved to \u001b[1m/Users/rodolfolobocarrasco/Documents/projects/YOLOV5/runs/segment/predict23\u001b[0m\n",
      "Total images processed: 4\n",
      "Images with detections: 3 (75.00% success rate)\n",
      "Images with no detections: 1 (25.00% failure rate)\n",
      "Quality level k=1: Average confidence = 0.000\n",
      "Quality level k=51: Average confidence = 0.896\n",
      "Quality level k=101: Average confidence = 0.915\n",
      "Quality level k=1000: Average confidence = 0.910\n"
     ]
    }
   ],
   "source": [
    "model_path = os.path.join(root, \"Data\", \"Figure_4\", \"Andalusite\",\"best.pt\")\n",
    "model = YOLO(model_path) \n",
    "predictions = model.predict(source=\"andalusite_general_experiment/svd\", save=True, imgsz=1280, conf=0.8, device='cpu', batch = 2)\n",
    "utils.experimento_1(predictions)"
   ]
  },
  {
   "cell_type": "code",
   "execution_count": 10,
   "metadata": {},
   "outputs": [
    {
     "name": "stdout",
     "output_type": "stream",
     "text": [
      "\n",
      "image 1/4 /Users/rodolfolobocarrasco/Desktop/INVESTIGACION-LECTURA/JOAQUIN/repositorio-oficial/ExplainableThinSections/Figures/Figure_6/biotite_general_experiment/svd/compressed_020-_jpg.rf.2e81a7c2d425fe7507a2c496806af0a1.jpg_k1.jpg: 960x1280 (no detections), 154.3ms\n",
      "image 2/4 /Users/rodolfolobocarrasco/Desktop/INVESTIGACION-LECTURA/JOAQUIN/repositorio-oficial/ExplainableThinSections/Figures/Figure_6/biotite_general_experiment/svd/compressed_020-_jpg.rf.2e81a7c2d425fe7507a2c496806af0a1.jpg_k1000.jpg: 960x1280 4 biotites, 154.3ms\n",
      "image 3/4 /Users/rodolfolobocarrasco/Desktop/INVESTIGACION-LECTURA/JOAQUIN/repositorio-oficial/ExplainableThinSections/Figures/Figure_6/biotite_general_experiment/svd/compressed_020-_jpg.rf.2e81a7c2d425fe7507a2c496806af0a1.jpg_k101.jpg: 960x1280 4 biotites, 151.0ms\n",
      "image 4/4 /Users/rodolfolobocarrasco/Desktop/INVESTIGACION-LECTURA/JOAQUIN/repositorio-oficial/ExplainableThinSections/Figures/Figure_6/biotite_general_experiment/svd/compressed_020-_jpg.rf.2e81a7c2d425fe7507a2c496806af0a1.jpg_k51.jpg: 960x1280 4 biotites, 151.0ms\n",
      "Speed: 6.4ms preprocess, 152.7ms inference, 1.9ms postprocess per image at shape (2, 3, 960, 1280)\n",
      "Results saved to \u001b[1m/Users/rodolfolobocarrasco/Documents/projects/YOLOV5/runs/segment/predict24\u001b[0m\n",
      "Total images processed: 4\n",
      "Images with detections: 3 (75.00% success rate)\n",
      "Images with no detections: 1 (25.00% failure rate)\n",
      "Quality level k=1: Average confidence = 0.000\n",
      "Quality level k=51: Average confidence = 0.895\n",
      "Quality level k=101: Average confidence = 0.923\n",
      "Quality level k=1000: Average confidence = 0.923\n"
     ]
    }
   ],
   "source": [
    "model_path = os.path.join(root, \"Data\", \"Figure_4\", \"Biotite\",\"best.pt\")\n",
    "model = YOLO(model_path) \n",
    "predictions = model.predict(source=\"biotite_general_experiment/svd\", save=True, imgsz=1280, conf=0.8, device='cpu', batch = 2)\n",
    "utils.experimento_1(predictions)"
   ]
  },
  {
   "cell_type": "markdown",
   "metadata": {},
   "source": [
    "Experiment 1: singular values variation vs confidence (R,G,B mono channels and bi-channels)"
   ]
  },
  {
   "cell_type": "code",
   "execution_count": 11,
   "metadata": {},
   "outputs": [
    {
     "name": "stdout",
     "output_type": "stream",
     "text": [
      "\n",
      "image 1/6 /Users/rodolfolobocarrasco/Desktop/INVESTIGACION-LECTURA/JOAQUIN/repositorio-oficial/ExplainableThinSections/Figures/Figure_6/ooid_general_experiment/rgb/037-_jpg.rf.30f30ede9fc5f0e1fbdcdd6c3af6b150.jpg_B.jpg: 960x1280 (no detections), 156.0ms\n",
      "image 2/6 /Users/rodolfolobocarrasco/Desktop/INVESTIGACION-LECTURA/JOAQUIN/repositorio-oficial/ExplainableThinSections/Figures/Figure_6/ooid_general_experiment/rgb/037-_jpg.rf.30f30ede9fc5f0e1fbdcdd6c3af6b150.jpg_G.jpg: 960x1280 (no detections), 156.0ms\n",
      "image 3/6 /Users/rodolfolobocarrasco/Desktop/INVESTIGACION-LECTURA/JOAQUIN/repositorio-oficial/ExplainableThinSections/Figures/Figure_6/ooid_general_experiment/rgb/037-_jpg.rf.30f30ede9fc5f0e1fbdcdd6c3af6b150.jpg_GB.jpg: 960x1280 (no detections), 169.7ms\n",
      "image 4/6 /Users/rodolfolobocarrasco/Desktop/INVESTIGACION-LECTURA/JOAQUIN/repositorio-oficial/ExplainableThinSections/Figures/Figure_6/ooid_general_experiment/rgb/037-_jpg.rf.30f30ede9fc5f0e1fbdcdd6c3af6b150.jpg_R.jpg: 960x1280 (no detections), 169.7ms\n",
      "image 5/6 /Users/rodolfolobocarrasco/Desktop/INVESTIGACION-LECTURA/JOAQUIN/repositorio-oficial/ExplainableThinSections/Figures/Figure_6/ooid_general_experiment/rgb/037-_jpg.rf.30f30ede9fc5f0e1fbdcdd6c3af6b150.jpg_RB.jpg: 960x1280 (no detections), 153.5ms\n",
      "image 6/6 /Users/rodolfolobocarrasco/Desktop/INVESTIGACION-LECTURA/JOAQUIN/repositorio-oficial/ExplainableThinSections/Figures/Figure_6/ooid_general_experiment/rgb/037-_jpg.rf.30f30ede9fc5f0e1fbdcdd6c3af6b150.jpg_RG.jpg: 960x1280 (no detections), 153.5ms\n",
      "Speed: 5.4ms preprocess, 159.8ms inference, 0.2ms postprocess per image at shape (2, 3, 960, 1280)\n",
      "Results saved to \u001b[1m/Users/rodolfolobocarrasco/Documents/projects/YOLOV5/runs/segment/predict25\u001b[0m\n",
      "Total images processed: 6\n",
      "Images with detections: 0 (0.00% success rate)\n",
      "Images with no detections: 6 (100.00% failure rate)\n"
     ]
    }
   ],
   "source": [
    "model_path = os.path.join(root, \"Data\", \"Figure_4\", \"Ooid\",\"best.pt\")\n",
    "model = YOLO(model_path) \n",
    "predictions = model.predict(source=\"ooid_general_experiment/rgb\", save=True, imgsz=1280, conf=0.8, device='cpu', batch = 2)\n",
    "utils.experimento_1(predictions)"
   ]
  },
  {
   "cell_type": "code",
   "execution_count": 12,
   "metadata": {},
   "outputs": [
    {
     "name": "stdout",
     "output_type": "stream",
     "text": [
      "\n",
      "image 1/6 /Users/rodolfolobocarrasco/Desktop/INVESTIGACION-LECTURA/JOAQUIN/repositorio-oficial/ExplainableThinSections/Figures/Figure_6/biotite_general_experiment/rgb/020-_jpg.rf.2e81a7c2d425fe7507a2c496806af0a1.jpg_B.jpg: 960x1280 (no detections), 149.9ms\n",
      "image 2/6 /Users/rodolfolobocarrasco/Desktop/INVESTIGACION-LECTURA/JOAQUIN/repositorio-oficial/ExplainableThinSections/Figures/Figure_6/biotite_general_experiment/rgb/020-_jpg.rf.2e81a7c2d425fe7507a2c496806af0a1.jpg_G.jpg: 960x1280 (no detections), 149.9ms\n",
      "image 3/6 /Users/rodolfolobocarrasco/Desktop/INVESTIGACION-LECTURA/JOAQUIN/repositorio-oficial/ExplainableThinSections/Figures/Figure_6/biotite_general_experiment/rgb/020-_jpg.rf.2e81a7c2d425fe7507a2c496806af0a1.jpg_GB.jpg: 960x1280 (no detections), 154.7ms\n",
      "image 4/6 /Users/rodolfolobocarrasco/Desktop/INVESTIGACION-LECTURA/JOAQUIN/repositorio-oficial/ExplainableThinSections/Figures/Figure_6/biotite_general_experiment/rgb/020-_jpg.rf.2e81a7c2d425fe7507a2c496806af0a1.jpg_R.jpg: 960x1280 (no detections), 154.7ms\n",
      "image 5/6 /Users/rodolfolobocarrasco/Desktop/INVESTIGACION-LECTURA/JOAQUIN/repositorio-oficial/ExplainableThinSections/Figures/Figure_6/biotite_general_experiment/rgb/020-_jpg.rf.2e81a7c2d425fe7507a2c496806af0a1.jpg_RB.jpg: 960x1280 (no detections), 152.7ms\n",
      "image 6/6 /Users/rodolfolobocarrasco/Desktop/INVESTIGACION-LECTURA/JOAQUIN/repositorio-oficial/ExplainableThinSections/Figures/Figure_6/biotite_general_experiment/rgb/020-_jpg.rf.2e81a7c2d425fe7507a2c496806af0a1.jpg_RG.jpg: 960x1280 1 biotite, 152.7ms\n",
      "Speed: 6.3ms preprocess, 152.4ms inference, 0.3ms postprocess per image at shape (2, 3, 960, 1280)\n",
      "Results saved to \u001b[1m/Users/rodolfolobocarrasco/Documents/projects/YOLOV5/runs/segment/predict26\u001b[0m\n",
      "Total images processed: 6\n",
      "Images with detections: 1 (16.67% success rate)\n",
      "Images with no detections: 5 (83.33% failure rate)\n"
     ]
    }
   ],
   "source": [
    "model_path = os.path.join(root, \"Data\", \"Figure_4\", \"Biotite\",\"best.pt\")\n",
    "model = YOLO(model_path) \n",
    "predictions = model.predict(source=\"biotite_general_experiment/rgb\", save=True, imgsz=1280, conf=0.8, device='cpu', batch = 2)\n",
    "utils.experimento_1(predictions)"
   ]
  },
  {
   "cell_type": "code",
   "execution_count": 13,
   "metadata": {},
   "outputs": [
    {
     "name": "stdout",
     "output_type": "stream",
     "text": [
      "\n",
      "image 1/6 /Users/rodolfolobocarrasco/Desktop/INVESTIGACION-LECTURA/JOAQUIN/repositorio-oficial/ExplainableThinSections/Figures/Figure_6/biotite_general_experiment/rgb/020-_jpg.rf.2e81a7c2d425fe7507a2c496806af0a1.jpg_B.jpg: 960x1280 (no detections), 150.0ms\n",
      "image 2/6 /Users/rodolfolobocarrasco/Desktop/INVESTIGACION-LECTURA/JOAQUIN/repositorio-oficial/ExplainableThinSections/Figures/Figure_6/biotite_general_experiment/rgb/020-_jpg.rf.2e81a7c2d425fe7507a2c496806af0a1.jpg_G.jpg: 960x1280 (no detections), 150.0ms\n",
      "image 3/6 /Users/rodolfolobocarrasco/Desktop/INVESTIGACION-LECTURA/JOAQUIN/repositorio-oficial/ExplainableThinSections/Figures/Figure_6/biotite_general_experiment/rgb/020-_jpg.rf.2e81a7c2d425fe7507a2c496806af0a1.jpg_GB.jpg: 960x1280 (no detections), 156.4ms\n",
      "image 4/6 /Users/rodolfolobocarrasco/Desktop/INVESTIGACION-LECTURA/JOAQUIN/repositorio-oficial/ExplainableThinSections/Figures/Figure_6/biotite_general_experiment/rgb/020-_jpg.rf.2e81a7c2d425fe7507a2c496806af0a1.jpg_R.jpg: 960x1280 (no detections), 156.4ms\n",
      "image 5/6 /Users/rodolfolobocarrasco/Desktop/INVESTIGACION-LECTURA/JOAQUIN/repositorio-oficial/ExplainableThinSections/Figures/Figure_6/biotite_general_experiment/rgb/020-_jpg.rf.2e81a7c2d425fe7507a2c496806af0a1.jpg_RB.jpg: 960x1280 (no detections), 152.2ms\n",
      "image 6/6 /Users/rodolfolobocarrasco/Desktop/INVESTIGACION-LECTURA/JOAQUIN/repositorio-oficial/ExplainableThinSections/Figures/Figure_6/biotite_general_experiment/rgb/020-_jpg.rf.2e81a7c2d425fe7507a2c496806af0a1.jpg_RG.jpg: 960x1280 1 biotite, 152.2ms\n",
      "Speed: 6.3ms preprocess, 152.9ms inference, 0.3ms postprocess per image at shape (2, 3, 960, 1280)\n",
      "Results saved to \u001b[1m/Users/rodolfolobocarrasco/Documents/projects/YOLOV5/runs/segment/predict27\u001b[0m\n",
      "Total images processed: 6\n",
      "Images with detections: 1 (16.67% success rate)\n",
      "Images with no detections: 5 (83.33% failure rate)\n"
     ]
    }
   ],
   "source": [
    "model_path = os.path.join(root, \"Data\", \"Figure_4\", \"Biotite\",\"best.pt\")\n",
    "model = YOLO(model_path) \n",
    "predictions = model.predict(source=\"biotite_general_experiment/rgb\", save=True, imgsz=1280, conf=0.8, device='cpu', batch = 2)\n",
    "utils.experimento_1(predictions)"
   ]
  },
  {
   "cell_type": "markdown",
   "metadata": {},
   "source": [
    "Experiment 2: singular values variation vs confidence (R,G,B mono channels and bi-channels) but converted to grayscale"
   ]
  },
  {
   "cell_type": "code",
   "execution_count": 14,
   "metadata": {},
   "outputs": [
    {
     "name": "stdout",
     "output_type": "stream",
     "text": [
      "✅ Grayscale conversion completed. 6 images saved in ooid_general_experiment/gray.\n",
      "\n",
      "image 1/6 /Users/rodolfolobocarrasco/Desktop/INVESTIGACION-LECTURA/JOAQUIN/repositorio-oficial/ExplainableThinSections/Figures/Figure_6/ooid_general_experiment/gray/037-_jpg.rf.30f30ede9fc5f0e1fbdcdd6c3af6b150.jpg_B.jpg: 960x1280 (no detections), 159.3ms\n",
      "image 2/6 /Users/rodolfolobocarrasco/Desktop/INVESTIGACION-LECTURA/JOAQUIN/repositorio-oficial/ExplainableThinSections/Figures/Figure_6/ooid_general_experiment/gray/037-_jpg.rf.30f30ede9fc5f0e1fbdcdd6c3af6b150.jpg_G.jpg: 960x1280 3 Ooids, 159.3ms\n",
      "image 3/6 /Users/rodolfolobocarrasco/Desktop/INVESTIGACION-LECTURA/JOAQUIN/repositorio-oficial/ExplainableThinSections/Figures/Figure_6/ooid_general_experiment/gray/037-_jpg.rf.30f30ede9fc5f0e1fbdcdd6c3af6b150.jpg_GB.jpg: 960x1280 4 Ooids, 154.1ms\n",
      "image 4/6 /Users/rodolfolobocarrasco/Desktop/INVESTIGACION-LECTURA/JOAQUIN/repositorio-oficial/ExplainableThinSections/Figures/Figure_6/ooid_general_experiment/gray/037-_jpg.rf.30f30ede9fc5f0e1fbdcdd6c3af6b150.jpg_R.jpg: 960x1280 (no detections), 154.1ms\n",
      "image 5/6 /Users/rodolfolobocarrasco/Desktop/INVESTIGACION-LECTURA/JOAQUIN/repositorio-oficial/ExplainableThinSections/Figures/Figure_6/ooid_general_experiment/gray/037-_jpg.rf.30f30ede9fc5f0e1fbdcdd6c3af6b150.jpg_RB.jpg: 960x1280 4 Ooids, 151.7ms\n",
      "image 6/6 /Users/rodolfolobocarrasco/Desktop/INVESTIGACION-LECTURA/JOAQUIN/repositorio-oficial/ExplainableThinSections/Figures/Figure_6/ooid_general_experiment/gray/037-_jpg.rf.30f30ede9fc5f0e1fbdcdd6c3af6b150.jpg_RG.jpg: 960x1280 5 Ooids, 151.7ms\n",
      "Speed: 5.3ms preprocess, 155.0ms inference, 1.9ms postprocess per image at shape (2, 3, 960, 1280)\n",
      "Results saved to \u001b[1m/Users/rodolfolobocarrasco/Documents/projects/YOLOV5/runs/segment/predict28\u001b[0m\n",
      "Total images processed: 6\n",
      "Images with detections: 4 (66.67% success rate)\n",
      "Images with no detections: 2 (33.33% failure rate)\n"
     ]
    }
   ],
   "source": [
    "utils.grayscale_conversion(input_folder=\"ooid_general_experiment/rgb\", \n",
    "                         output_folder=\"ooid_general_experiment/gray\")\n",
    "\n",
    "model_path = os.path.join(root, \"Data\", \"Figure_4\", \"Ooid\",\"best.pt\")\n",
    "model = YOLO(model_path) \n",
    "predictions = model.predict(source=\"ooid_general_experiment/gray\", save=True, imgsz=1280, conf=0.8, device='cpu', batch = 2)\n",
    "\n",
    "utils.experimento_1(predictions)"
   ]
  },
  {
   "cell_type": "code",
   "execution_count": 15,
   "metadata": {},
   "outputs": [
    {
     "name": "stdout",
     "output_type": "stream",
     "text": [
      "✅ Grayscale conversion completed. 6 images saved in andalusite_general_experiment/gray.\n",
      "\n",
      "image 1/6 /Users/rodolfolobocarrasco/Desktop/INVESTIGACION-LECTURA/JOAQUIN/repositorio-oficial/ExplainableThinSections/Figures/Figure_6/andalusite_general_experiment/gray/030-_jpg.rf.bea13e5c133d87522f4d55bf0df1f62c.jpg_B.jpg: 960x1280 (no detections), 154.2ms\n",
      "image 2/6 /Users/rodolfolobocarrasco/Desktop/INVESTIGACION-LECTURA/JOAQUIN/repositorio-oficial/ExplainableThinSections/Figures/Figure_6/andalusite_general_experiment/gray/030-_jpg.rf.bea13e5c133d87522f4d55bf0df1f62c.jpg_G.jpg: 960x1280 7 andalusites, 154.2ms\n",
      "image 3/6 /Users/rodolfolobocarrasco/Desktop/INVESTIGACION-LECTURA/JOAQUIN/repositorio-oficial/ExplainableThinSections/Figures/Figure_6/andalusite_general_experiment/gray/030-_jpg.rf.bea13e5c133d87522f4d55bf0df1f62c.jpg_GB.jpg: 960x1280 9 andalusites, 154.8ms\n",
      "image 4/6 /Users/rodolfolobocarrasco/Desktop/INVESTIGACION-LECTURA/JOAQUIN/repositorio-oficial/ExplainableThinSections/Figures/Figure_6/andalusite_general_experiment/gray/030-_jpg.rf.bea13e5c133d87522f4d55bf0df1f62c.jpg_R.jpg: 960x1280 1 andalusite, 154.8ms\n",
      "image 5/6 /Users/rodolfolobocarrasco/Desktop/INVESTIGACION-LECTURA/JOAQUIN/repositorio-oficial/ExplainableThinSections/Figures/Figure_6/andalusite_general_experiment/gray/030-_jpg.rf.bea13e5c133d87522f4d55bf0df1f62c.jpg_RB.jpg: 960x1280 9 andalusites, 153.7ms\n",
      "image 6/6 /Users/rodolfolobocarrasco/Desktop/INVESTIGACION-LECTURA/JOAQUIN/repositorio-oficial/ExplainableThinSections/Figures/Figure_6/andalusite_general_experiment/gray/030-_jpg.rf.bea13e5c133d87522f4d55bf0df1f62c.jpg_RG.jpg: 960x1280 10 andalusites, 153.7ms\n",
      "Speed: 5.7ms preprocess, 154.2ms inference, 3.9ms postprocess per image at shape (2, 3, 960, 1280)\n",
      "Results saved to \u001b[1m/Users/rodolfolobocarrasco/Documents/projects/YOLOV5/runs/segment/predict29\u001b[0m\n",
      "Total images processed: 6\n",
      "Images with detections: 5 (83.33% success rate)\n",
      "Images with no detections: 1 (16.67% failure rate)\n"
     ]
    }
   ],
   "source": [
    "utils.grayscale_conversion(input_folder=\"andalusite_general_experiment/rgb\", \n",
    "                         output_folder=\"andalusite_general_experiment/gray\")\n",
    "\n",
    "model_path = os.path.join(root, \"Data\", \"Figure_4\", \"Andalusite\",\"best.pt\")\n",
    "model = YOLO(model_path) \n",
    "predictions = model.predict(source=\"andalusite_general_experiment/gray\", save=True, imgsz=1280, conf=0.8, device='cpu', batch = 2)\n",
    "\n",
    "utils.experimento_1(predictions)"
   ]
  },
  {
   "cell_type": "code",
   "execution_count": 16,
   "metadata": {},
   "outputs": [
    {
     "name": "stdout",
     "output_type": "stream",
     "text": [
      "✅ Grayscale conversion completed. 6 images saved in biotite_general_experiment/gray.\n",
      "\n",
      "image 1/6 /Users/rodolfolobocarrasco/Desktop/INVESTIGACION-LECTURA/JOAQUIN/repositorio-oficial/ExplainableThinSections/Figures/Figure_6/biotite_general_experiment/gray/020-_jpg.rf.2e81a7c2d425fe7507a2c496806af0a1.jpg_B.jpg: 960x1280 (no detections), 152.9ms\n",
      "image 2/6 /Users/rodolfolobocarrasco/Desktop/INVESTIGACION-LECTURA/JOAQUIN/repositorio-oficial/ExplainableThinSections/Figures/Figure_6/biotite_general_experiment/gray/020-_jpg.rf.2e81a7c2d425fe7507a2c496806af0a1.jpg_G.jpg: 960x1280 1 biotite, 152.9ms\n",
      "image 3/6 /Users/rodolfolobocarrasco/Desktop/INVESTIGACION-LECTURA/JOAQUIN/repositorio-oficial/ExplainableThinSections/Figures/Figure_6/biotite_general_experiment/gray/020-_jpg.rf.2e81a7c2d425fe7507a2c496806af0a1.jpg_GB.jpg: 960x1280 3 biotites, 151.8ms\n",
      "image 4/6 /Users/rodolfolobocarrasco/Desktop/INVESTIGACION-LECTURA/JOAQUIN/repositorio-oficial/ExplainableThinSections/Figures/Figure_6/biotite_general_experiment/gray/020-_jpg.rf.2e81a7c2d425fe7507a2c496806af0a1.jpg_R.jpg: 960x1280 (no detections), 151.8ms\n",
      "image 5/6 /Users/rodolfolobocarrasco/Desktop/INVESTIGACION-LECTURA/JOAQUIN/repositorio-oficial/ExplainableThinSections/Figures/Figure_6/biotite_general_experiment/gray/020-_jpg.rf.2e81a7c2d425fe7507a2c496806af0a1.jpg_RB.jpg: 960x1280 3 biotites, 157.7ms\n",
      "image 6/6 /Users/rodolfolobocarrasco/Desktop/INVESTIGACION-LECTURA/JOAQUIN/repositorio-oficial/ExplainableThinSections/Figures/Figure_6/biotite_general_experiment/gray/020-_jpg.rf.2e81a7c2d425fe7507a2c496806af0a1.jpg_RG.jpg: 960x1280 4 biotites, 157.7ms\n",
      "Speed: 6.3ms preprocess, 154.1ms inference, 1.7ms postprocess per image at shape (2, 3, 960, 1280)\n",
      "Results saved to \u001b[1m/Users/rodolfolobocarrasco/Documents/projects/YOLOV5/runs/segment/predict30\u001b[0m\n",
      "Total images processed: 6\n",
      "Images with detections: 4 (66.67% success rate)\n",
      "Images with no detections: 2 (33.33% failure rate)\n"
     ]
    }
   ],
   "source": [
    "utils.grayscale_conversion(input_folder=\"biotite_general_experiment/rgb\", \n",
    "                         output_folder=\"biotite_general_experiment/gray\")\n",
    "\n",
    "model_path = os.path.join(root, \"Data\", \"Figure_4\", \"Biotite\",\"best.pt\")\n",
    "model = YOLO(model_path) \n",
    "predictions = model.predict(source=\"biotite_general_experiment/gray\", save=True, imgsz=1280, conf=0.8, device='cpu', batch = 2)\n",
    "\n",
    "utils.experimento_1(predictions)"
   ]
  }
 ],
 "metadata": {
  "kernelspec": {
   "display_name": ".venv",
   "language": "python",
   "name": "python3"
  },
  "language_info": {
   "codemirror_mode": {
    "name": "ipython",
    "version": 3
   },
   "file_extension": ".py",
   "mimetype": "text/x-python",
   "name": "python",
   "nbconvert_exporter": "python",
   "pygments_lexer": "ipython3",
   "version": "3.10.9"
  }
 },
 "nbformat": 4,
 "nbformat_minor": 2
}
